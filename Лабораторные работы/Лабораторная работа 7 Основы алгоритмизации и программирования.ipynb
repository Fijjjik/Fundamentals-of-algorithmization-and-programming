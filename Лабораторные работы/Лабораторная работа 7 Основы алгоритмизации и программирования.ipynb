{
 "cells": [
  {
   "cell_type": "markdown",
   "id": "a7ce22f9-923d-4e4b-843f-5582cbbf82c7",
   "metadata": {},
   "source": [
    "# Лабораторная работа №5 - Составление алгоритмов и их программная реализация программная реализация заполнения массива.\n",
    "\n",
    "**Цель практической работы:** Овладеть практическими навыками разработки программ с использованием массивов.\n",
    "\n",
    "**Ход работы:**\n",
    "1. Ознакомиться с заданиями\n",
    "2. Разработать программы на Python 3 согласно заданию\n",
    "3. Протестировать и отладить программы\n",
    "4. Выполнить программу\n",
    "5. Заполнить отчет\n",
    "\n",
    "**Требования к программе:**\n",
    "1. Использование циклов\n",
    "2. Использование условий\n",
    "3. Использование массивов (списков)\n",
    "\n",
    "**Работу выполнил:**"
   ]
  },
  {
   "cell_type": "markdown",
   "id": "d5fcfde6-f8ce-44c9-94a1-0dc5472a0195",
   "metadata": {},
   "source": [
    "ФИО студента"
   ]
  },
  {
   "cell_type": "markdown",
   "id": "8459eb1e-6a18-4ba2-b2e2-d27f4a1826b2",
   "metadata": {},
   "source": [
    "## Задание 1 - Создание программы"
   ]
  },
  {
   "cell_type": "markdown",
   "id": "9bf7ae56",
   "metadata": {},
   "source": [
    "№ 1 Напишите программу, которая принимает список чисел и возвращает новый список, содержащий только четные элементы исходного списка."
   ]
  },
  {
   "cell_type": "code",
   "execution_count": null,
   "id": "54180def",
   "metadata": {},
   "outputs": [],
   "source": []
  },
  {
   "cell_type": "markdown",
   "id": "cc886e9b",
   "metadata": {},
   "source": [
    "№ 2 Напишите программу, которая принимает список чисел и возвращает сумму всех элементов списка."
   ]
  },
  {
   "cell_type": "code",
   "execution_count": null,
   "id": "8fce4330",
   "metadata": {},
   "outputs": [],
   "source": []
  },
  {
   "cell_type": "markdown",
   "id": "fe7b5dc7",
   "metadata": {},
   "source": [
    "## Задание 2 - Заполнение массива"
   ]
  },
  {
   "cell_type": "markdown",
   "id": "781e28c0",
   "metadata": {},
   "source": [
    "№ 3 Напишите программу, которая принимает два целых числа m и n и возвращает двумерный список размером m на n, заполненный нулями."
   ]
  },
  {
   "cell_type": "code",
   "execution_count": null,
   "id": "a1e51ccf",
   "metadata": {},
   "outputs": [],
   "source": []
  },
  {
   "cell_type": "markdown",
   "id": "ddd53a56",
   "metadata": {},
   "source": [
    "№4 Напишите программу, которая принимает три целых числа a, d и n и возвращает список из n элементов, образующих арифметическую прогрессию с начальным членом a и разностью d."
   ]
  },
  {
   "cell_type": "code",
   "execution_count": null,
   "id": "3509b8c9",
   "metadata": {},
   "outputs": [],
   "source": []
  },
  {
   "cell_type": "markdown",
   "id": "367d72c7",
   "metadata": {},
   "source": [
    "## Задание 3 - Сортировка массива"
   ]
  },
  {
   "cell_type": "markdown",
   "id": "1e55dd35",
   "metadata": {},
   "source": [
    "№5 Напишите программу, которая принимает список чисел и сортирует его по возрастанию."
   ]
  },
  {
   "cell_type": "code",
   "execution_count": null,
   "id": "bcf7f70e",
   "metadata": {},
   "outputs": [],
   "source": []
  },
  {
   "cell_type": "markdown",
   "id": "41d02c2c",
   "metadata": {},
   "source": [
    "№6 Напишите програму, которая принимает список чисел и сортирует его по возрастанию, используя встроенный метод ``sor()``."
   ]
  },
  {
   "cell_type": "code",
   "execution_count": null,
   "id": "88c1889f",
   "metadata": {},
   "outputs": [],
   "source": []
  },
  {
   "cell_type": "markdown",
   "id": "ec443828-abad-49e9-909c-a4cd1fb562c9",
   "metadata": {},
   "source": [
    "## Вывод"
   ]
  },
  {
   "cell_type": "markdown",
   "id": "10aaef74-7ef5-4bf9-a0bf-21cbf3dd7862",
   "metadata": {},
   "source": []
  }
 ],
 "metadata": {
  "kernelspec": {
   "display_name": "Python 3 (ipykernel)",
   "language": "python",
   "name": "python3"
  },
  "language_info": {
   "codemirror_mode": {
    "name": "ipython",
    "version": 3
   },
   "file_extension": ".py",
   "mimetype": "text/x-python",
   "name": "python",
   "nbconvert_exporter": "python",
   "pygments_lexer": "ipython3",
   "version": "3.10.8"
  }
 },
 "nbformat": 4,
 "nbformat_minor": 5
}
