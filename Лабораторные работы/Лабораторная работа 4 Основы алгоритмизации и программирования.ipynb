{
 "cells": [
  {
   "cell_type": "markdown",
   "id": "a7ce22f9-923d-4e4b-843f-5582cbbf82c7",
   "metadata": {},
   "source": [
    "# Лабораторная работа №4 - Реализация алгоритмов вычисления суммы числового ряда.\n",
    "\n",
    "**Цель практической работы:** Овладеть практическими навыками разработки и программирования алгоритмов циклической структуры, получить навыки вычисления суммы числовых последовательностей.\n",
    "\n",
    "**Ход работы:**\n",
    "1. Ознакомиться с заданиями\n",
    "2. Разработать программы на Python 3 согласно заданию\n",
    "3. Протестировать и отладить программы\n",
    "4. Выполнить программу\n",
    "5. Заполнить отчет\n",
    "\n",
    "**Требования к программе:**\n",
    "1. Использование циклов\n",
    "\n",
    "**Работу выполнил:**"
   ]
  },
  {
   "cell_type": "markdown",
   "id": "d5fcfde6-f8ce-44c9-94a1-0dc5472a0195",
   "metadata": {},
   "source": [
    "ФИО студента"
   ]
  },
  {
   "cell_type": "markdown",
   "id": "8459eb1e-6a18-4ba2-b2e2-d27f4a1826b2",
   "metadata": {},
   "source": [
    "## Задание 1 - Создание программы"
   ]
  },
  {
   "cell_type": "markdown",
   "id": "9bf7ae56",
   "metadata": {},
   "source": [
    "№ 1 Напишите программу с использованием цикла ``while``, которая считает сумму всех целых чисел на заданном пользователем промежутке. Первое и последнее число промежутка пользователь вводит с клавиатуры. С каждым шагом число увеличивается на 1."
   ]
  },
  {
   "cell_type": "code",
   "execution_count": null,
   "id": "54180def",
   "metadata": {},
   "outputs": [],
   "source": []
  },
  {
   "cell_type": "markdown",
   "id": "cc886e9b",
   "metadata": {},
   "source": [
    "№ 2 Напишите программу с использованием цикла ``for``, которая считает сумму всех целых чисел на заданном пользователем промежутке. Первое и последнее число промежутка пользователь вводит с клавиатуры. С каждым шагом число увеличивается на 1."
   ]
  },
  {
   "cell_type": "code",
   "execution_count": null,
   "id": "8fce4330",
   "metadata": {},
   "outputs": [],
   "source": []
  },
  {
   "cell_type": "markdown",
   "id": "781e28c0",
   "metadata": {},
   "source": [
    "№ 3 Напишите программу, находящую член арифметической прогрессии путем перебора в цикле ``while``. Первый член и шаг (разность прогрессии) пользователь вводит с клавиатуры."
   ]
  },
  {
   "cell_type": "code",
   "execution_count": null,
   "id": "a1e51ccf",
   "metadata": {},
   "outputs": [],
   "source": []
  },
  {
   "cell_type": "markdown",
   "id": "ddd53a56",
   "metadata": {},
   "source": [
    "№4 Напишите программу для прогнозирования кол-ва клеток после их деления. Начальное кол-во клеток = 1. Кол-во клеток каждый час увеличивается в заданное пользователем с клавиатуры кол-во раз. Программа должна рассчитать кол-во клеток через заданное кол-во часов."
   ]
  },
  {
   "cell_type": "code",
   "execution_count": null,
   "id": "3509b8c9",
   "metadata": {},
   "outputs": [],
   "source": []
  },
  {
   "cell_type": "markdown",
   "id": "367d72c7",
   "metadata": {},
   "source": [
    "## Задание 2 - Решение задач"
   ]
  },
  {
   "cell_type": "markdown",
   "id": "1e55dd35",
   "metadata": {},
   "source": [
    "№5 Начав тренировки, спортсмен в первый день пробежал 10 км. Каждый день он увеличивал дневную норму на 10% нормы предыдущего дня. Какой суммарный путь пробежит спортсмен за N дней?"
   ]
  },
  {
   "cell_type": "code",
   "execution_count": null,
   "id": "bcf7f70e",
   "metadata": {},
   "outputs": [],
   "source": []
  },
  {
   "cell_type": "markdown",
   "id": "41d02c2c",
   "metadata": {},
   "source": [
    "№6 Составить программу, которая запрашивает пароль (четырёхзначное число) до тех пор, пока он не будет правильно введён"
   ]
  },
  {
   "cell_type": "code",
   "execution_count": null,
   "id": "88c1889f",
   "metadata": {},
   "outputs": [],
   "source": []
  },
  {
   "cell_type": "markdown",
   "id": "27302cc7",
   "metadata": {},
   "source": [
    "№7 Составить программу, которая печатает таблицу умножения и таблицу сложения для числа N в десятичной системе счисления. "
   ]
  },
  {
   "cell_type": "code",
   "execution_count": null,
   "id": "0c109405",
   "metadata": {},
   "outputs": [],
   "source": []
  },
  {
   "cell_type": "markdown",
   "id": "2364b217",
   "metadata": {},
   "source": [
    "№8 Вывести на экран все простые числа в диапазоне от 2 до N."
   ]
  },
  {
   "cell_type": "code",
   "execution_count": null,
   "id": "0772bc26",
   "metadata": {},
   "outputs": [],
   "source": []
  },
  {
   "cell_type": "markdown",
   "id": "ff9e6725",
   "metadata": {},
   "source": [
    "№9 Написать программу для вычисления N-ой степени числа a $(a^N)$."
   ]
  },
  {
   "cell_type": "code",
   "execution_count": null,
   "id": "418d89b3",
   "metadata": {},
   "outputs": [],
   "source": []
  },
  {
   "cell_type": "markdown",
   "id": "ec443828-abad-49e9-909c-a4cd1fb562c9",
   "metadata": {},
   "source": [
    "## Вывод"
   ]
  },
  {
   "cell_type": "markdown",
   "id": "10aaef74-7ef5-4bf9-a0bf-21cbf3dd7862",
   "metadata": {},
   "source": []
  }
 ],
 "metadata": {
  "kernelspec": {
   "display_name": "Python 3 (ipykernel)",
   "language": "python",
   "name": "python3"
  },
  "language_info": {
   "codemirror_mode": {
    "name": "ipython",
    "version": 3
   },
   "file_extension": ".py",
   "mimetype": "text/x-python",
   "name": "python",
   "nbconvert_exporter": "python",
   "pygments_lexer": "ipython3",
   "version": "3.10.8"
  }
 },
 "nbformat": 4,
 "nbformat_minor": 5
}
